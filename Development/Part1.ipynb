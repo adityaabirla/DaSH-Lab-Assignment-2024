{
 "cells": [
  {
   "cell_type": "code",
   "execution_count": 2,
   "metadata": {},
   "outputs": [],
   "source": [
    "import google.generativeai as genai"
   ]
  },
  {
   "cell_type": "code",
   "execution_count": 3,
   "metadata": {},
   "outputs": [],
   "source": [
    "import json\n",
    "import time\n",
    "import google.generativeai as genai\n",
    "\n",
    
    "api_key = \"API_KEY\"\n",
    "genai.configure(api_key = api_key)\n",
   
    "model = genai.GenerativeModel('gemini-1.5-flash')\n",
    "\n",
    "with open(\"input.txt\", \"r\") as f:\n",
    "    prompts = f.readlines()\n",
    "\n",
    "results = []\n",
    "for prompti in prompts:\n",
    "    prompti = prompti.strip()\n",
    "    start_time = int(time.time())\n",
    "    try:\n",
    "        response = model.generate_content(prompti)\n",
    "        end_time = int(time.time())\n",
    "        \n",
    "        #print(response.parts[0].text)\n",
    "        result = {\n",
    "            \"Prompt\": prompti,\n",
    "            \"Message\": response.parts[0].text,\n",
    "            \"TimeSent\": start_time,\n",
    "            \"TimeRecvd\": end_time,\n",
    "            \"Source\": \"Google Generative AI\"\n",
    "        }\n",
    "        results.append(result)\n",
    "        \n",
    "    except Exception as e:\n",
    "        print(f\"Error processing prompt '{prompti}': {e}\")\n",
    "\n",
    "\n",
    "with open(\"output.json\", \"w\") as f:\n",
    "    json.dump(results, f, indent=4)\n"
   ]
  },
  {
   "cell_type": "code",
   "execution_count": null,
   "metadata": {},
   "outputs": [],
   "source": []
  }
 ],
 "metadata": {
  "kernelspec": {
   "display_name": "Python 3 (ipykernel)",
   "language": "python",
   "name": "python3"
  },
  "language_info": {
   "codemirror_mode": {
    "name": "ipython",
    "version": 3
   },
   "file_extension": ".py",
   "mimetype": "text/x-python",
   "name": "python",
   "nbconvert_exporter": "python",
   "pygments_lexer": "ipython3",
   "version": "3.11.5"
  }
 },
 "nbformat": 4,
 "nbformat_minor": 4
}
